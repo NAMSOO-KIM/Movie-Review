{
 "cells": [
  {
   "cell_type": "code",
   "execution_count": 3,
   "metadata": {},
   "outputs": [],
   "source": [
    "import pandas as pd\n",
    "import numpy as np\n",
    "import matplotlib.pyplot as plt\n",
    "%matplotlib inline\n"
   ]
  },
  {
   "cell_type": "code",
   "execution_count": null,
   "metadata": {},
   "outputs": [],
   "source": [
    "\n"
   ]
  },
  {
   "cell_type": "code",
   "execution_count": 4,
   "metadata": {},
   "outputs": [],
   "source": [
    "#data = pd.read_excel('blouse1.xlsx')\n",
    "data = pd.read_csv(\"score_result.csv\")\n"
   ]
  },
  {
   "cell_type": "code",
   "execution_count": 5,
   "metadata": {},
   "outputs": [
    {
     "data": {
      "text/html": [
       "<div>\n",
       "<style scoped>\n",
       "    .dataframe tbody tr th:only-of-type {\n",
       "        vertical-align: middle;\n",
       "    }\n",
       "\n",
       "    .dataframe tbody tr th {\n",
       "        vertical-align: top;\n",
       "    }\n",
       "\n",
       "    .dataframe thead th {\n",
       "        text-align: right;\n",
       "    }\n",
       "</style>\n",
       "<table border=\"1\" class=\"dataframe\">\n",
       "  <thead>\n",
       "    <tr style=\"text-align: right;\">\n",
       "      <th></th>\n",
       "      <th>Unnamed: 0</th>\n",
       "      <th>리뷰</th>\n",
       "      <th>평점</th>\n",
       "    </tr>\n",
       "  </thead>\n",
       "  <tbody>\n",
       "    <tr>\n",
       "      <th>0</th>\n",
       "      <td>0</td>\n",
       "      <td>그 현장에서 같이 뛰어가는 듯 숨이 차고 안타깝고... 자극적인 장면도 없는데 전쟁...</td>\n",
       "      <td>10</td>\n",
       "    </tr>\n",
       "    <tr>\n",
       "      <th>1</th>\n",
       "      <td>1</td>\n",
       "      <td>배경이 너무 아름답게 펼쳐지지만 전쟁은 너무 참혹함</td>\n",
       "      <td>9</td>\n",
       "    </tr>\n",
       "    <tr>\n",
       "      <th>3</th>\n",
       "      <td>3</td>\n",
       "      <td>전장의 모습을 현실적으로 그려낸 영화</td>\n",
       "      <td>10</td>\n",
       "    </tr>\n",
       "    <tr>\n",
       "      <th>4</th>\n",
       "      <td>4</td>\n",
       "      <td>진짜 전쟁터 안에 들어가있는 기분!!!</td>\n",
       "      <td>10</td>\n",
       "    </tr>\n",
       "    <tr>\n",
       "      <th>5</th>\n",
       "      <td>5</td>\n",
       "      <td>단순한 영상미로 그칠 영화가 아니다. 눈요기 말고도 느끼고 생각할게 많은 영화.</td>\n",
       "      <td>9</td>\n",
       "    </tr>\n",
       "    <tr>\n",
       "      <th>...</th>\n",
       "      <td>...</td>\n",
       "      <td>...</td>\n",
       "      <td>...</td>\n",
       "    </tr>\n",
       "    <tr>\n",
       "      <th>4745</th>\n",
       "      <td>4745</td>\n",
       "      <td>촬영이 미쳤습니다 예고편 보지 마시고 가능하면 아이맥스로 관람하세요ㅜ</td>\n",
       "      <td>10</td>\n",
       "    </tr>\n",
       "    <tr>\n",
       "      <th>4746</th>\n",
       "      <td>4746</td>\n",
       "      <td>솔직하게 기생충보다 위대한 작품 기생충의 4관왕은 너무 뿌듯하고 축하하지만 순수하게...</td>\n",
       "      <td>10</td>\n",
       "    </tr>\n",
       "    <tr>\n",
       "      <th>4747</th>\n",
       "      <td>4747</td>\n",
       "      <td>현장에 들어와 있는 기분이 들고 롱테이크로 몰입감 긴장감이 넘쳤다. 내 기준으로는 ...</td>\n",
       "      <td>9</td>\n",
       "    </tr>\n",
       "    <tr>\n",
       "      <th>4748</th>\n",
       "      <td>4748</td>\n",
       "      <td>촬영감독의 영혼까지 갈아넣은 마스터피스</td>\n",
       "      <td>10</td>\n",
       "    </tr>\n",
       "    <tr>\n",
       "      <th>4749</th>\n",
       "      <td>4749</td>\n",
       "      <td>너무 많은 기대를 했던것일까. 소문난 잔치집에 먹을게 없었다. 독특한 촬영기법만으로...</td>\n",
       "      <td>6</td>\n",
       "    </tr>\n",
       "  </tbody>\n",
       "</table>\n",
       "<p>4333 rows × 3 columns</p>\n",
       "</div>"
      ],
      "text/plain": [
       "      Unnamed: 0                                                 리뷰  평점\n",
       "0              0  그 현장에서 같이 뛰어가는 듯 숨이 차고 안타깝고... 자극적인 장면도 없는데 전쟁...  10\n",
       "1              1                       배경이 너무 아름답게 펼쳐지지만 전쟁은 너무 참혹함   9\n",
       "3              3                               전장의 모습을 현실적으로 그려낸 영화  10\n",
       "4              4                              진짜 전쟁터 안에 들어가있는 기분!!!  10\n",
       "5              5       단순한 영상미로 그칠 영화가 아니다. 눈요기 말고도 느끼고 생각할게 많은 영화.   9\n",
       "...          ...                                                ...  ..\n",
       "4745        4745             촬영이 미쳤습니다 예고편 보지 마시고 가능하면 아이맥스로 관람하세요ㅜ  10\n",
       "4746        4746  솔직하게 기생충보다 위대한 작품 기생충의 4관왕은 너무 뿌듯하고 축하하지만 순수하게...  10\n",
       "4747        4747  현장에 들어와 있는 기분이 들고 롱테이크로 몰입감 긴장감이 넘쳤다. 내 기준으로는 ...   9\n",
       "4748        4748                              촬영감독의 영혼까지 갈아넣은 마스터피스  10\n",
       "4749        4749  너무 많은 기대를 했던것일까. 소문난 잔치집에 먹을게 없었다. 독특한 촬영기법만으로...   6\n",
       "\n",
       "[4333 rows x 3 columns]"
      ]
     },
     "execution_count": 5,
     "metadata": {},
     "output_type": "execute_result"
    }
   ],
   "source": [
    "data=data.dropna()\n",
    "data"
   ]
  },
  {
   "cell_type": "code",
   "execution_count": 6,
   "metadata": {},
   "outputs": [
    {
     "data": {
      "text/html": [
       "<div>\n",
       "<style scoped>\n",
       "    .dataframe tbody tr th:only-of-type {\n",
       "        vertical-align: middle;\n",
       "    }\n",
       "\n",
       "    .dataframe tbody tr th {\n",
       "        vertical-align: top;\n",
       "    }\n",
       "\n",
       "    .dataframe thead th {\n",
       "        text-align: right;\n",
       "    }\n",
       "</style>\n",
       "<table border=\"1\" class=\"dataframe\">\n",
       "  <thead>\n",
       "    <tr style=\"text-align: right;\">\n",
       "      <th></th>\n",
       "      <th>Unnamed: 0</th>\n",
       "      <th>리뷰</th>\n",
       "      <th>평점</th>\n",
       "    </tr>\n",
       "  </thead>\n",
       "  <tbody>\n",
       "    <tr>\n",
       "      <th>0</th>\n",
       "      <td>0</td>\n",
       "      <td>그 현장에서 같이 뛰어가는 듯 숨이 차고 안타깝고... 자극적인 장면도 없는데 전쟁...</td>\n",
       "      <td>10</td>\n",
       "    </tr>\n",
       "    <tr>\n",
       "      <th>1</th>\n",
       "      <td>1</td>\n",
       "      <td>배경이 너무 아름답게 펼쳐지지만 전쟁은 너무 참혹함</td>\n",
       "      <td>9</td>\n",
       "    </tr>\n",
       "    <tr>\n",
       "      <th>3</th>\n",
       "      <td>3</td>\n",
       "      <td>전장의 모습을 현실적으로 그려낸 영화</td>\n",
       "      <td>10</td>\n",
       "    </tr>\n",
       "    <tr>\n",
       "      <th>4</th>\n",
       "      <td>4</td>\n",
       "      <td>진짜 전쟁터 안에 들어가있는 기분!!!</td>\n",
       "      <td>10</td>\n",
       "    </tr>\n",
       "    <tr>\n",
       "      <th>5</th>\n",
       "      <td>5</td>\n",
       "      <td>단순한 영상미로 그칠 영화가 아니다. 눈요기 말고도 느끼고 생각할게 많은 영화.</td>\n",
       "      <td>9</td>\n",
       "    </tr>\n",
       "    <tr>\n",
       "      <th>...</th>\n",
       "      <td>...</td>\n",
       "      <td>...</td>\n",
       "      <td>...</td>\n",
       "    </tr>\n",
       "    <tr>\n",
       "      <th>4745</th>\n",
       "      <td>4745</td>\n",
       "      <td>촬영이 미쳤습니다 예고편 보지 마시고 가능하면 아이맥스로 관람하세요ㅜ</td>\n",
       "      <td>10</td>\n",
       "    </tr>\n",
       "    <tr>\n",
       "      <th>4746</th>\n",
       "      <td>4746</td>\n",
       "      <td>솔직하게 기생충보다 위대한 작품 기생충의 4관왕은 너무 뿌듯하고 축하하지만 순수하게...</td>\n",
       "      <td>10</td>\n",
       "    </tr>\n",
       "    <tr>\n",
       "      <th>4747</th>\n",
       "      <td>4747</td>\n",
       "      <td>현장에 들어와 있는 기분이 들고 롱테이크로 몰입감 긴장감이 넘쳤다. 내 기준으로는 ...</td>\n",
       "      <td>9</td>\n",
       "    </tr>\n",
       "    <tr>\n",
       "      <th>4748</th>\n",
       "      <td>4748</td>\n",
       "      <td>촬영감독의 영혼까지 갈아넣은 마스터피스</td>\n",
       "      <td>10</td>\n",
       "    </tr>\n",
       "    <tr>\n",
       "      <th>4749</th>\n",
       "      <td>4749</td>\n",
       "      <td>너무 많은 기대를 했던것일까. 소문난 잔치집에 먹을게 없었다. 독특한 촬영기법만으로...</td>\n",
       "      <td>6</td>\n",
       "    </tr>\n",
       "  </tbody>\n",
       "</table>\n",
       "<p>4333 rows × 3 columns</p>\n",
       "</div>"
      ],
      "text/plain": [
       "      Unnamed: 0                                                 리뷰  평점\n",
       "0              0  그 현장에서 같이 뛰어가는 듯 숨이 차고 안타깝고... 자극적인 장면도 없는데 전쟁...  10\n",
       "1              1                       배경이 너무 아름답게 펼쳐지지만 전쟁은 너무 참혹함   9\n",
       "3              3                               전장의 모습을 현실적으로 그려낸 영화  10\n",
       "4              4                              진짜 전쟁터 안에 들어가있는 기분!!!  10\n",
       "5              5       단순한 영상미로 그칠 영화가 아니다. 눈요기 말고도 느끼고 생각할게 많은 영화.   9\n",
       "...          ...                                                ...  ..\n",
       "4745        4745             촬영이 미쳤습니다 예고편 보지 마시고 가능하면 아이맥스로 관람하세요ㅜ  10\n",
       "4746        4746  솔직하게 기생충보다 위대한 작품 기생충의 4관왕은 너무 뿌듯하고 축하하지만 순수하게...  10\n",
       "4747        4747  현장에 들어와 있는 기분이 들고 롱테이크로 몰입감 긴장감이 넘쳤다. 내 기준으로는 ...   9\n",
       "4748        4748                              촬영감독의 영혼까지 갈아넣은 마스터피스  10\n",
       "4749        4749  너무 많은 기대를 했던것일까. 소문난 잔치집에 먹을게 없었다. 독특한 촬영기법만으로...   6\n",
       "\n",
       "[4333 rows x 3 columns]"
      ]
     },
     "execution_count": 6,
     "metadata": {},
     "output_type": "execute_result"
    }
   ],
   "source": [
    "reference = data\n",
    "reference"
   ]
  },
  {
   "cell_type": "code",
   "execution_count": 7,
   "metadata": {},
   "outputs": [
    {
     "data": {
      "text/plain": [
       "\"\\nreference_all = data[['title','contents','style_1','style_2','style_3','style_4']].values.tolist()\\nreference_s1 = data[['title','contents','style_1']].values.tolist()\\nreference_s2 = data[['title','contents','style_2']].values.tolist()\\nreference_s3 = data[['title','contents','style_3']].values.tolist()\\nreference_s4 = data[['title','contents','style_4']].values.tolist()\\n\\n\\ntc=data[['title','contents']]\\ntc=tc.values.tolist()\\ntc\""
      ]
     },
     "execution_count": 7,
     "metadata": {},
     "output_type": "execute_result"
    }
   ],
   "source": [
    "\"\"\"\n",
    "reference_all = data[['title','contents','style_1','style_2','style_3','style_4']].values.tolist()\n",
    "reference_s1 = data[['title','contents','style_1']].values.tolist()\n",
    "reference_s2 = data[['title','contents','style_2']].values.tolist()\n",
    "reference_s3 = data[['title','contents','style_3']].values.tolist()\n",
    "reference_s4 = data[['title','contents','style_4']].values.tolist()\n",
    "\n",
    "\n",
    "tc=data[['title','contents']]\n",
    "tc=tc.values.tolist()\n",
    "tc\"\"\"\n"
   ]
  },
  {
   "cell_type": "code",
   "execution_count": 8,
   "metadata": {},
   "outputs": [],
   "source": [
    "import sister\n"
   ]
  },
  {
   "cell_type": "code",
   "execution_count": 9,
   "metadata": {},
   "outputs": [
    {
     "name": "stdout",
     "output_type": "stream",
     "text": [
      "--->\n",
      "{'en': 'https://dl.fbaipublicfiles.com/fasttext/vectors-wiki/wiki.simple.zip', 'ja': 'https://dl.fbaipublicfiles.com/fasttext/vectors-wiki/wiki.ja.zip', 'file': 'file1'}\n",
      "--------- load_model from files :  cc.ko.100.bin\n"
     ]
    },
    {
     "name": "stderr",
     "output_type": "stream",
     "text": [
      "Warning : `load_model` does not return WordVectorModel or SupervisedModel any more, but a `FastText` object which is very similar.\n"
     ]
    },
    {
     "ename": "ValueError",
     "evalue": "cc.ko.100.bin cannot be opened for loading!",
     "output_type": "error",
     "traceback": [
      "\u001b[1;31m---------------------------------------------------------------------------\u001b[0m",
      "\u001b[1;31mValueError\u001b[0m                                Traceback (most recent call last)",
      "\u001b[1;32m<ipython-input-9-d13e30636158>\u001b[0m in \u001b[0;36m<module>\u001b[1;34m\u001b[0m\n\u001b[1;32m----> 1\u001b[1;33m \u001b[0msentence_embedding\u001b[0m \u001b[1;33m=\u001b[0m \u001b[0msister\u001b[0m\u001b[1;33m.\u001b[0m\u001b[0mMeanEmbedding\u001b[0m\u001b[1;33m(\u001b[0m\u001b[0mlang\u001b[0m\u001b[1;33m=\u001b[0m\u001b[1;34m\"file\"\u001b[0m\u001b[1;33m,\u001b[0m\u001b[0mfasttextfile\u001b[0m\u001b[1;33m=\u001b[0m\u001b[1;34m\"cc.ko.100.bin\"\u001b[0m\u001b[1;33m)\u001b[0m\u001b[1;33m\u001b[0m\u001b[1;33m\u001b[0m\u001b[0m\n\u001b[0m",
      "\u001b[1;32m~\\Anaconda3\\lib\\site-packages\\sister\\core.py\u001b[0m in \u001b[0;36m__init__\u001b[1;34m(self, lang, fasttextfile, tokenizer, word_embedder)\u001b[0m\n\u001b[0;32m     30\u001b[0m             word_embedder: WordEmbedding = None) -> None:\n\u001b[0;32m     31\u001b[0m         \u001b[0mtokenizer\u001b[0m \u001b[1;33m=\u001b[0m \u001b[0mtokenizer\u001b[0m \u001b[1;32mor\u001b[0m \u001b[1;33m{\u001b[0m\u001b[1;34m\"en\"\u001b[0m\u001b[1;33m:\u001b[0m \u001b[0mSimpleTokenizer\u001b[0m\u001b[1;33m(\u001b[0m\u001b[1;33m)\u001b[0m\u001b[1;33m,\u001b[0m \u001b[1;34m\"ja\"\u001b[0m\u001b[1;33m:\u001b[0m \u001b[0mJapaneseTokenizer\u001b[0m\u001b[1;33m(\u001b[0m\u001b[1;33m)\u001b[0m\u001b[1;33m,\u001b[0m \u001b[1;34m\"file\"\u001b[0m\u001b[1;33m:\u001b[0m\u001b[0mSimpleTokenizer\u001b[0m\u001b[1;33m(\u001b[0m\u001b[1;33m)\u001b[0m\u001b[1;33m}\u001b[0m\u001b[1;33m[\u001b[0m\u001b[0mlang\u001b[0m\u001b[1;33m]\u001b[0m\u001b[1;33m\u001b[0m\u001b[1;33m\u001b[0m\u001b[0m\n\u001b[1;32m---> 32\u001b[1;33m         \u001b[0mword_embedder\u001b[0m \u001b[1;33m=\u001b[0m \u001b[0mword_embedder\u001b[0m \u001b[1;32mor\u001b[0m \u001b[0mFasttextEmbedding\u001b[0m\u001b[1;33m(\u001b[0m\u001b[0mlang\u001b[0m\u001b[1;33m,\u001b[0m\u001b[0mfasttextfile\u001b[0m\u001b[1;33m)\u001b[0m\u001b[1;33m\u001b[0m\u001b[1;33m\u001b[0m\u001b[0m\n\u001b[0m\u001b[0;32m     33\u001b[0m         \u001b[0msuper\u001b[0m\u001b[1;33m(\u001b[0m\u001b[1;33m)\u001b[0m\u001b[1;33m.\u001b[0m\u001b[0m__init__\u001b[0m\u001b[1;33m(\u001b[0m\u001b[0mtokenizer\u001b[0m\u001b[1;33m,\u001b[0m \u001b[0mword_embedder\u001b[0m\u001b[1;33m)\u001b[0m\u001b[1;33m\u001b[0m\u001b[1;33m\u001b[0m\u001b[0m\n\u001b[0;32m     34\u001b[0m \u001b[1;33m\u001b[0m\u001b[0m\n",
      "\u001b[1;32m~\\Anaconda3\\lib\\site-packages\\sister\\word_embedders.py\u001b[0m in \u001b[0;36m__init__\u001b[1;34m(self, lang, fasttextfile)\u001b[0m\n\u001b[0;32m     45\u001b[0m \u001b[1;33m\u001b[0m\u001b[0m\n\u001b[0;32m     46\u001b[0m     \u001b[1;32mdef\u001b[0m \u001b[0m__init__\u001b[0m\u001b[1;33m(\u001b[0m\u001b[0mself\u001b[0m\u001b[1;33m,\u001b[0m \u001b[0mlang\u001b[0m\u001b[1;33m:\u001b[0m \u001b[0mstr\u001b[0m \u001b[1;33m=\u001b[0m \u001b[1;34m\"en\"\u001b[0m\u001b[1;33m,\u001b[0m \u001b[0mfasttextfile\u001b[0m\u001b[1;33m:\u001b[0m \u001b[0mstr\u001b[0m \u001b[1;33m=\u001b[0m\u001b[1;34m\"\"\u001b[0m\u001b[1;33m)\u001b[0m \u001b[1;33m->\u001b[0m \u001b[1;32mNone\u001b[0m\u001b[1;33m:\u001b[0m\u001b[1;33m\u001b[0m\u001b[1;33m\u001b[0m\u001b[0m\n\u001b[1;32m---> 47\u001b[1;33m         \u001b[0mmodel\u001b[0m \u001b[1;33m=\u001b[0m \u001b[0mget_fasttext\u001b[0m\u001b[1;33m(\u001b[0m\u001b[0mlang\u001b[0m\u001b[1;33m,\u001b[0m\u001b[0mfasttextfile\u001b[0m\u001b[1;33m)\u001b[0m\u001b[1;33m\u001b[0m\u001b[1;33m\u001b[0m\u001b[0m\n\u001b[0m\u001b[0;32m     48\u001b[0m         \u001b[0mself\u001b[0m\u001b[1;33m.\u001b[0m\u001b[0mmodel\u001b[0m \u001b[1;33m=\u001b[0m \u001b[0mmodel\u001b[0m\u001b[1;33m\u001b[0m\u001b[1;33m\u001b[0m\u001b[0m\n\u001b[0;32m     49\u001b[0m \u001b[1;33m\u001b[0m\u001b[0m\n",
      "\u001b[1;32m~\\Anaconda3\\lib\\site-packages\\sister\\word_embedders.py\u001b[0m in \u001b[0;36mget_fasttext\u001b[1;34m(lang, fasttextfile)\u001b[0m\n\u001b[0;32m     19\u001b[0m     \u001b[1;32mif\u001b[0m \u001b[0murls\u001b[0m\u001b[1;33m[\u001b[0m\u001b[0mlang\u001b[0m\u001b[1;33m]\u001b[0m\u001b[1;33m==\u001b[0m\u001b[1;34m\"file1\"\u001b[0m\u001b[1;33m:\u001b[0m\u001b[1;33m\u001b[0m\u001b[1;33m\u001b[0m\u001b[0m\n\u001b[0;32m     20\u001b[0m         \u001b[0mprint\u001b[0m\u001b[1;33m(\u001b[0m\u001b[1;34m\"--------- load_model from files : \"\u001b[0m\u001b[1;33m,\u001b[0m\u001b[0mfasttextfile\u001b[0m\u001b[1;33m)\u001b[0m\u001b[1;33m\u001b[0m\u001b[1;33m\u001b[0m\u001b[0m\n\u001b[1;32m---> 21\u001b[1;33m         \u001b[0mmodel\u001b[0m \u001b[1;33m=\u001b[0m \u001b[0mload_model\u001b[0m\u001b[1;33m(\u001b[0m\u001b[0mfasttextfile\u001b[0m\u001b[1;33m)\u001b[0m\u001b[1;33m\u001b[0m\u001b[1;33m\u001b[0m\u001b[0m\n\u001b[0m\u001b[0;32m     22\u001b[0m         \u001b[1;31m#model = load_model('cc.en.100.bin')\u001b[0m\u001b[1;33m\u001b[0m\u001b[1;33m\u001b[0m\u001b[1;33m\u001b[0m\u001b[0m\n\u001b[0;32m     23\u001b[0m     \u001b[1;32melse\u001b[0m\u001b[1;33m:\u001b[0m\u001b[1;33m\u001b[0m\u001b[1;33m\u001b[0m\u001b[0m\n",
      "\u001b[1;32m~\\Anaconda3\\lib\\site-packages\\fasttext\\FastText.py\u001b[0m in \u001b[0;36mload_model\u001b[1;34m(path)\u001b[0m\n\u001b[0;32m    372\u001b[0m     \u001b[1;34m\"\"\"Load a model given a filepath and return a model object.\"\"\"\u001b[0m\u001b[1;33m\u001b[0m\u001b[1;33m\u001b[0m\u001b[0m\n\u001b[0;32m    373\u001b[0m     \u001b[0meprint\u001b[0m\u001b[1;33m(\u001b[0m\u001b[1;34m\"Warning : `load_model` does not return WordVectorModel or SupervisedModel any more, but a `FastText` object which is very similar.\"\u001b[0m\u001b[1;33m)\u001b[0m\u001b[1;33m\u001b[0m\u001b[1;33m\u001b[0m\u001b[0m\n\u001b[1;32m--> 374\u001b[1;33m     \u001b[1;32mreturn\u001b[0m \u001b[0m_FastText\u001b[0m\u001b[1;33m(\u001b[0m\u001b[0mmodel_path\u001b[0m\u001b[1;33m=\u001b[0m\u001b[0mpath\u001b[0m\u001b[1;33m)\u001b[0m\u001b[1;33m\u001b[0m\u001b[1;33m\u001b[0m\u001b[0m\n\u001b[0m\u001b[0;32m    375\u001b[0m \u001b[1;33m\u001b[0m\u001b[0m\n\u001b[0;32m    376\u001b[0m \u001b[1;33m\u001b[0m\u001b[0m\n",
      "\u001b[1;32m~\\Anaconda3\\lib\\site-packages\\fasttext\\FastText.py\u001b[0m in \u001b[0;36m__init__\u001b[1;34m(self, model_path, args)\u001b[0m\n\u001b[0;32m     41\u001b[0m         \u001b[0mself\u001b[0m\u001b[1;33m.\u001b[0m\u001b[0mf\u001b[0m \u001b[1;33m=\u001b[0m \u001b[0mfasttext\u001b[0m\u001b[1;33m.\u001b[0m\u001b[0mfasttext\u001b[0m\u001b[1;33m(\u001b[0m\u001b[1;33m)\u001b[0m\u001b[1;33m\u001b[0m\u001b[1;33m\u001b[0m\u001b[0m\n\u001b[0;32m     42\u001b[0m         \u001b[1;32mif\u001b[0m \u001b[0mmodel_path\u001b[0m \u001b[1;32mis\u001b[0m \u001b[1;32mnot\u001b[0m \u001b[1;32mNone\u001b[0m\u001b[1;33m:\u001b[0m\u001b[1;33m\u001b[0m\u001b[1;33m\u001b[0m\u001b[0m\n\u001b[1;32m---> 43\u001b[1;33m             \u001b[0mself\u001b[0m\u001b[1;33m.\u001b[0m\u001b[0mf\u001b[0m\u001b[1;33m.\u001b[0m\u001b[0mloadModel\u001b[0m\u001b[1;33m(\u001b[0m\u001b[0mmodel_path\u001b[0m\u001b[1;33m)\u001b[0m\u001b[1;33m\u001b[0m\u001b[1;33m\u001b[0m\u001b[0m\n\u001b[0m\u001b[0;32m     44\u001b[0m         \u001b[0mself\u001b[0m\u001b[1;33m.\u001b[0m\u001b[0m_words\u001b[0m \u001b[1;33m=\u001b[0m \u001b[1;32mNone\u001b[0m\u001b[1;33m\u001b[0m\u001b[1;33m\u001b[0m\u001b[0m\n\u001b[0;32m     45\u001b[0m         \u001b[0mself\u001b[0m\u001b[1;33m.\u001b[0m\u001b[0m_labels\u001b[0m \u001b[1;33m=\u001b[0m \u001b[1;32mNone\u001b[0m\u001b[1;33m\u001b[0m\u001b[1;33m\u001b[0m\u001b[0m\n",
      "\u001b[1;31mValueError\u001b[0m: cc.ko.100.bin cannot be opened for loading!"
     ]
    }
   ],
   "source": [
    "sentence_embedding = sister.MeanEmbedding(lang=\"file\",fasttextfile=\"cc.ko.100.bin\")"
   ]
  },
  {
   "cell_type": "code",
   "execution_count": null,
   "metadata": {},
   "outputs": [],
   "source": [
    "\"\"\"\n",
    "def merge_ti_con(result_list):\n",
    "    vector1_list = []\n",
    "    vector2_list = []\n",
    "    \n",
    "    for i in range(len(result_list)): \n",
    "    \n",
    "        s1 = sentence_embedding(result_list[i][0])\n",
    "        s2 = sentence_embedding(result_list[i][1])\n",
    "        vector1_list.append(s1)\n",
    "        vector2_list.append(s2)\n",
    "        \n",
    "        \n",
    "    vector1_df= pd.DataFrame(vector1_list) #DataFrame으로\n",
    "    vector2_df = pd.DataFrame(vector2_list) \n",
    "    \n",
    "    return pd.concat([vector1_df,vector2_df],axis= 1) #merge\n",
    "    \"\"\"\n"
   ]
  },
  {
   "cell_type": "code",
   "execution_count": null,
   "metadata": {},
   "outputs": [],
   "source": []
  },
  {
   "cell_type": "code",
   "execution_count": null,
   "metadata": {},
   "outputs": [],
   "source": [
    "\"\"\"\n",
    "def review_embedding(df):\n",
    "    nor_score=normalize(df)\n",
    "    df_rev = df['리뷰']\n",
    "    r_list=df_rev.values.tolist()\n",
    "    vector1_list = []\n",
    "\n",
    "    for i in range(len(r_list)): \n",
    "    \n",
    "        s1 = sentence_embedding(r_list[i])\n",
    "        vector1_list.append(s1)\n",
    "        \n",
    "        \n",
    "    vector_df= pd.DataFrame(vector1_list) #DataFrame으로\n",
    "    return pd.concat([vector_df,df_sco],axis= 1) #merge\n",
    "    \"\"\""
   ]
  },
  {
   "cell_type": "code",
   "execution_count": null,
   "metadata": {},
   "outputs": [],
   "source": [
    "data"
   ]
  },
  {
   "cell_type": "code",
   "execution_count": null,
   "metadata": {},
   "outputs": [],
   "source": [
    "def review_embedding(df):\n",
    "    df_rev = df['리뷰']\n",
    "    r_list=df_rev.values.tolist()\n",
    "    vector1_list = []\n",
    "\n",
    "    for i in range(len(r_list)): \n",
    "    \n",
    "        s1 = sentence_embedding(r_list[i])\n",
    "        vector1_list.append(s1)\n",
    "        \n",
    "        \n",
    "    vector_df= pd.DataFrame(vector1_list) #DataFrame으로\n",
    "    return vector_df #merge"
   ]
  },
  {
   "cell_type": "code",
   "execution_count": null,
   "metadata": {},
   "outputs": [],
   "source": [
    "res_df=review_embedding(data)\n",
    "res_df"
   ]
  },
  {
   "cell_type": "code",
   "execution_count": null,
   "metadata": {},
   "outputs": [],
   "source": [
    "sc=data[['평점']].values.tolist()\n",
    "sco_df=pd.DataFrame(sc)\n",
    "sco_df.columns = ['평점']\n",
    "sco_df"
   ]
  },
  {
   "cell_type": "code",
   "execution_count": null,
   "metadata": {},
   "outputs": [],
   "source": [
    "result=pd.concat([res_df,sco_df],axis= 1)\n",
    "result"
   ]
  },
  {
   "cell_type": "code",
   "execution_count": null,
   "metadata": {},
   "outputs": [],
   "source": [
    "##벡터값 정규화\n",
    "from sklearn.preprocessing import MinMaxScaler\n",
    "\n",
    "min_max_scaler = MinMaxScaler()\n",
    "fitted = min_max_scaler.fit(result)\n",
    "print(fitted.data_max_)\n",
    "## 출력 결과\n",
    "## [891.       1.       3.      80.       8.       6.     512.3292]\n",
    "output = min_max_scaler.transform(result)\n",
    "output = pd.DataFrame(output, columns=result.columns, index=list(result.index.values))\n",
    "output.head()"
   ]
  },
  {
   "cell_type": "code",
   "execution_count": null,
   "metadata": {},
   "outputs": [],
   "source": [
    "output"
   ]
  },
  {
   "cell_type": "code",
   "execution_count": null,
   "metadata": {},
   "outputs": [],
   "source": [
    "import scipy\n",
    "from scipy import io\n"
   ]
  },
  {
   "cell_type": "code",
   "execution_count": 10,
   "metadata": {},
   "outputs": [
    {
     "ename": "NameError",
     "evalue": "name 'output' is not defined",
     "output_type": "error",
     "traceback": [
      "\u001b[1;31m---------------------------------------------------------------------------\u001b[0m",
      "\u001b[1;31mNameError\u001b[0m                                 Traceback (most recent call last)",
      "\u001b[1;32m<ipython-input-10-db7353ab7430>\u001b[0m in \u001b[0;36m<module>\u001b[1;34m\u001b[0m\n\u001b[1;32m----> 1\u001b[1;33m \u001b[0moutput\u001b[0m\u001b[1;33m.\u001b[0m\u001b[0mto_csv\u001b[0m\u001b[1;33m(\u001b[0m\u001b[1;34m'movie_review_100_4174.csv'\u001b[0m\u001b[1;33m,\u001b[0m\u001b[0mindex\u001b[0m\u001b[1;33m=\u001b[0m\u001b[1;32mNone\u001b[0m\u001b[1;33m)\u001b[0m\u001b[1;33m\u001b[0m\u001b[1;33m\u001b[0m\u001b[0m\n\u001b[0m",
      "\u001b[1;31mNameError\u001b[0m: name 'output' is not defined"
     ]
    }
   ],
   "source": [
    "output.to_csv('movie_review_100_4174.csv',index=None)"
   ]
  },
  {
   "cell_type": "code",
   "execution_count": null,
   "metadata": {},
   "outputs": [],
   "source": []
  }
 ],
 "metadata": {
  "kernelspec": {
   "display_name": "Python 3",
   "language": "python",
   "name": "python3"
  },
  "language_info": {
   "codemirror_mode": {
    "name": "ipython",
    "version": 3
   },
   "file_extension": ".py",
   "mimetype": "text/x-python",
   "name": "python",
   "nbconvert_exporter": "python",
   "pygments_lexer": "ipython3",
   "version": "3.7.1"
  }
 },
 "nbformat": 4,
 "nbformat_minor": 4
}
